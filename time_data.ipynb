{
 "cells": [
  {
   "cell_type": "code",
   "execution_count": 1,
   "metadata": {
    "collapsed": true
   },
   "outputs": [],
   "source": [
    "import pandas as pd\n",
    "from datetime import datetime\n",
    "import matplotlib.pyplot as plt\n",
    "%matplotlib inline"
   ]
  },
  {
   "cell_type": "code",
   "execution_count": 21,
   "metadata": {
    "collapsed": false
   },
   "outputs": [],
   "source": [
    "\n",
    "bmon_cancel=pd.read_csv(\"bmonster_canceldata.csv\")\n",
    "# データを整える\n",
    "bmon_cancel['date_time_DT']=[datetime.strptime(i, '%Y-%m-%d %H:%M:%S') for i in bmon_cancel['date_time']]"
   ]
  },
  {
   "cell_type": "code",
   "execution_count": 22,
   "metadata": {
    "collapsed": false
   },
   "outputs": [
    {
     "data": {
      "text/plain": [
       "0   2019-06-29 14:57:56\n",
       "1   2019-06-29 14:54:04\n",
       "2   2019-06-29 14:52:46\n",
       "3   2019-06-29 14:51:38\n",
       "4   2019-06-29 14:44:48\n",
       "Name: date_time_DT, dtype: datetime64[ns]"
      ]
     },
     "execution_count": 22,
     "metadata": {},
     "output_type": "execute_result"
    }
   ],
   "source": [
    "bmon_cancel['date_time_DT'].head()"
   ]
  },
  {
   "cell_type": "code",
   "execution_count": 23,
   "metadata": {
    "collapsed": false
   },
   "outputs": [
    {
     "data": {
      "text/plain": [
       "Timestamp('2019-06-29 14:57:56')"
      ]
     },
     "execution_count": 23,
     "metadata": {},
     "output_type": "execute_result"
    }
   ],
   "source": [
    "bmon_cancel.loc[0,'date_time_DT']"
   ]
  },
  {
   "cell_type": "code",
   "execution_count": 47,
   "metadata": {
    "collapsed": false
   },
   "outputs": [],
   "source": [
    "bmon_cancel_time=bmon_cancel.groupby(pd.Grouper(key='date_time_DT', freq='15Min')).size()"
   ]
  },
  {
   "cell_type": "code",
   "execution_count": 48,
   "metadata": {
    "collapsed": false
   },
   "outputs": [
    {
     "data": {
      "text/plain": [
       "date_time_DT\n",
       "2019-05-09 01:00:00    1\n",
       "2019-05-09 01:15:00    0\n",
       "2019-05-09 01:30:00    0\n",
       "2019-05-09 01:45:00    0\n",
       "2019-05-09 02:00:00    0\n",
       "2019-05-09 02:15:00    0\n",
       "2019-05-09 02:30:00    0\n",
       "2019-05-09 02:45:00    0\n",
       "2019-05-09 03:00:00    0\n",
       "2019-05-09 03:15:00    0\n",
       "2019-05-09 03:30:00    0\n",
       "2019-05-09 03:45:00    0\n",
       "2019-05-09 04:00:00    0\n",
       "2019-05-09 04:15:00    0\n",
       "2019-05-09 04:30:00    0\n",
       "2019-05-09 04:45:00    0\n",
       "2019-05-09 05:00:00    0\n",
       "2019-05-09 05:15:00    0\n",
       "2019-05-09 05:30:00    0\n",
       "2019-05-09 05:45:00    0\n",
       "2019-05-09 06:00:00    0\n",
       "2019-05-09 06:15:00    0\n",
       "2019-05-09 06:30:00    0\n",
       "2019-05-09 06:45:00    0\n",
       "2019-05-09 07:00:00    2\n",
       "2019-05-09 07:15:00    0\n",
       "2019-05-09 07:30:00    0\n",
       "2019-05-09 07:45:00    0\n",
       "2019-05-09 08:00:00    1\n",
       "2019-05-09 08:15:00    0\n",
       "                      ..\n",
       "2019-06-29 07:30:00    5\n",
       "2019-06-29 07:45:00    2\n",
       "2019-06-29 08:00:00    4\n",
       "2019-06-29 08:15:00    9\n",
       "2019-06-29 08:30:00    9\n",
       "2019-06-29 08:45:00    5\n",
       "2019-06-29 09:00:00    6\n",
       "2019-06-29 09:15:00    4\n",
       "2019-06-29 09:30:00    6\n",
       "2019-06-29 09:45:00    5\n",
       "2019-06-29 10:00:00    3\n",
       "2019-06-29 10:15:00    0\n",
       "2019-06-29 10:30:00    0\n",
       "2019-06-29 10:45:00    1\n",
       "2019-06-29 11:00:00    0\n",
       "2019-06-29 11:15:00    0\n",
       "2019-06-29 11:30:00    3\n",
       "2019-06-29 11:45:00    1\n",
       "2019-06-29 12:00:00    0\n",
       "2019-06-29 12:15:00    0\n",
       "2019-06-29 12:30:00    3\n",
       "2019-06-29 12:45:00    2\n",
       "2019-06-29 13:00:00    2\n",
       "2019-06-29 13:15:00    1\n",
       "2019-06-29 13:30:00    6\n",
       "2019-06-29 13:45:00    2\n",
       "2019-06-29 14:00:00    9\n",
       "2019-06-29 14:15:00    5\n",
       "2019-06-29 14:30:00    4\n",
       "2019-06-29 14:45:00    4\n",
       "Freq: 15T, Length: 4952, dtype: int64"
      ]
     },
     "execution_count": 48,
     "metadata": {},
     "output_type": "execute_result"
    }
   ],
   "source": [
    "bmon_cancel_time"
   ]
  },
  {
   "cell_type": "code",
   "execution_count": 49,
   "metadata": {
    "collapsed": false
   },
   "outputs": [],
   "source": [
    "bmon_cancel_time.index = [j.time() for j in bmon_cancel_time.index]"
   ]
  },
  {
   "cell_type": "code",
   "execution_count": 52,
   "metadata": {
    "collapsed": false
   },
   "outputs": [
    {
     "data": {
      "text/plain": [
       "00:00:00    2\n",
       "00:15:00    0\n",
       "00:30:00    1\n",
       "00:45:00    1\n",
       "01:00:00    2\n",
       "01:15:00    0\n",
       "01:30:00    0\n",
       "01:45:00    0\n",
       "02:00:00    0\n",
       "02:15:00    2\n",
       "02:30:00    0\n",
       "02:45:00    0\n",
       "03:00:00    0\n",
       "03:15:00    0\n",
       "03:30:00    0\n",
       "03:45:00    0\n",
       "04:00:00    0\n",
       "04:15:00    1\n",
       "04:30:00    0\n",
       "04:45:00    1\n",
       "05:00:00    1\n",
       "05:15:00    1\n",
       "05:30:00    0\n",
       "05:45:00    1\n",
       "06:00:00    1\n",
       "06:15:00    0\n",
       "06:30:00    6\n",
       "06:45:00    4\n",
       "07:00:00    4\n",
       "07:15:00    0\n",
       "           ..\n",
       "16:30:00    0\n",
       "16:45:00    0\n",
       "17:00:00    1\n",
       "17:15:00    1\n",
       "17:30:00    1\n",
       "17:45:00    1\n",
       "18:00:00    3\n",
       "18:15:00    1\n",
       "18:30:00    5\n",
       "18:45:00    1\n",
       "19:00:00    1\n",
       "19:15:00    4\n",
       "19:30:00    7\n",
       "19:45:00    4\n",
       "20:00:00    1\n",
       "20:15:00    3\n",
       "20:30:00    0\n",
       "20:45:00    0\n",
       "21:00:00    0\n",
       "21:15:00    1\n",
       "21:30:00    0\n",
       "21:45:00    1\n",
       "22:00:00    0\n",
       "22:15:00    1\n",
       "22:30:00    0\n",
       "22:45:00    0\n",
       "23:00:00    0\n",
       "23:15:00    1\n",
       "23:30:00    2\n",
       "23:45:00    1\n",
       "Length: 96, dtype: int64"
      ]
     },
     "execution_count": 52,
     "metadata": {},
     "output_type": "execute_result"
    }
   ],
   "source": [
    "bmon_cancel_time.groupby(level=0).sum()"
   ]
  },
  {
   "cell_type": "code",
   "execution_count": null,
   "metadata": {
    "collapsed": true
   },
   "outputs": [],
   "source": []
  }
 ],
 "metadata": {
  "kernelspec": {
   "display_name": "Python 3",
   "language": "python",
   "name": "python3"
  },
  "language_info": {
   "codemirror_mode": {
    "name": "ipython",
    "version": 3
   },
   "file_extension": ".py",
   "mimetype": "text/x-python",
   "name": "python",
   "nbconvert_exporter": "python",
   "pygments_lexer": "ipython3",
   "version": "3.6.0"
  }
 },
 "nbformat": 4,
 "nbformat_minor": 2
}
